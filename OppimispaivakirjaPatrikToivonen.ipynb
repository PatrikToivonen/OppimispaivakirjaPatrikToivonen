{
 "cells": [
  {
   "cell_type": "markdown",
   "id": "9e83544f",
   "metadata": {},
   "source": [
    "# Oppimispäiväkirja Patrik Toivonen\n",
    "## Ensimmäinen viikko, Mitä on datatiede?\n",
    "Ensimmäisellä viikolla osallistuin aloitusluennolle ja olin kurssin aiheesta suhteellisen kiinnostunut ja ylipäätään kurssin suorittaminen vaikutti mielenkiintoiselta. Olen koko kurssin ajan Turussa, joten luennoille osallistuminen tarkoittaa kaikkien luentojen kohdalla lähtökohtaisesti luennon katsomista livenä Panopton kautta tai vaihtoehtoisesti myöhemmin tallenteen katsomista. Lähtökohtaisesti pidin itseäni melko huonona koodamisen suhteen ja itseäni hieman kauhistuttikin ajatus oppimispäiväkirjan toteuttamisesta Jupyter notebookkina sekä siihen vaadittavia viikottaisia koodiosioita. Myös viimeiseksi mainittu hieman mietityttää itseäni, sillä koodaaminen ei ole oma vahvuusalueeni. En ollut koskaan ennen käyttänyt Jupyteria, joten nähtäväksi jää miten päiväkirjan toteuttaminen tällä menetelmällä tulee onnistumaan. Oppimispäiväkirjaa näin hieman jälkikäteen kirjoittaessani oman jaksamiseni ja muiden tehtävien aiheuttaneen aloittamisen lykkääntymisen, huomaan olevani hieman kurssin toteutustavasta sekä tehtävistä ulkona. Tästä johtuen itseltäni jäivät myös koodiklinikoiden hyödyntämiset hyvin vähäisiksi, mikä jälkikäteen ajateltuna olisi ollut itselleni varmasti hyvin suotavaa. Osan koodiklinikoista katselin jälkikäteen harjoitustyön tekemisen sekä tämän päiväkirjan toteuttamisten helpottamiseksi. Kurssin keskeisimmät tavoitteet itselleni ovat datatieteen parempi ymmärrys, hyödyntämiskohteiden selkeämpi ymmärtäminen sekä varsinaisen datankäsittelyn parantaminen itseni kohdalla. Kuitenkin huomaan jo ennen kurssia oman jaksamiseni olevan hieman loppu, joten tähtään kurssilla erityisesti läpipääsyyn sekä omaan oppimiseeni, kuin korkeisiin arvosanoihin. \n",
    "\n",
    "Ensimmäisen luennon aiheena olivat kurssin suorittamiseen liittyvät tekijät, jotka käytiin ensimmäiseksi läpi, kuten lähes kaikilla kursseilla on ollut tapana. Suorituksessa käytiin läpi ensinnäkin tämän oppimispäiväkirjan toteuttaminen sekä myöhemmin toteutettava harjoitustyö, joka on myös oleellinen osa kurssin suorittamista. Tästä siirryttiin varsinaiseen aiheeseen, joka ensimmäisellä luennolla oli määrittely siitä, mitä datatiede on, millaisia edellytyksiä datatieteelle voidaan asettaa sekä millaisia työvälineitä datatieteessä voidaan yleisesti hyödyntää. Itselleni tuli myös uutena asiana datatieteen jakaminen karkeasti neljään kokonaisuuteen liiketoimintaosaaminen, ohjelmointi- ja tietokantaosaaminen, tilastollinen analyysi sekä datalähtöinen viestintä ja visualisointi.\n",
    "\n",
    "Itselläni oli ennen kurssin alkua vain hyvin pintapuoleista tietoa siitä, mitä kaikkea voidaan pitää datatieteenä. Itselläni on alla dataan liittyviä kursseja lähinnä vain Basics for Business data analytics, jossa mielestäni varsinaiseen datatieteeseen ei keskitytty kovin perusteellisesti. Datatiede esiteltiin luennolla esimerkiksi tietotekniikan, matematiikan sekä liiketoiminnan osaamisten yhdistämisenä ja miten sitä voidaan hyödyntää monenlaisten alojen liiketoiminnan tehostamisena. Datatieteen avulla voidaan luoda dataa hyödyntämällä malleja, jota voidaan taas hyödyntää niin tekoälyn toiminnan kuin analytiikan apuna. Datasta mainittiin sen määrän olevan suurempi kuin koskaan ennen ja määrän vain kasvavan tulevaisuudessa. Seuraavana aiheena olivat analyysiympäristö sekä datan käsittelyyn käyettävät työvälineet, kuten tilastolaskentaympäristö R, sekä sen toimintaa osittain korvaamaan sekä lisäämään useat Python pohjaiset ympäristöt. Tässä vaiheessa luentoa esiteltiin myös lisää työkirjapohjaisia laskentaympäristöjä, kuten CSC sekä JupyterLab, jonka osana myös Jupyter notebooks on, jolla tämäkin oppimispäiväkirja on toteutettu. \n",
    "\n",
    "Viikon tärkeimpinä oppeina itselleni olivat ymmärrys datan aina vain kasvavasta määrästä, sekä miten suurta hyötyä etenkin tulevaisuudessa tämän datamäärän seasta oleellisen tiedon hankinnalla voi olla liiketoiminnan kannalta. Lisäksi itselleni tuli uutena asiana Python-pohjaiset työkirjapohjaiset ympäristöt, kuten Jupyter ja mielestäni on hyvin mielenkiintoista päästä opettelemaan näiden työkalujen tehokkaampaa käyttöä. \n",
    "Itselläni ei ole ainakaan vielä tässä vaiheessa kehitysehdotuksia kurssin kehittämiseen. "
   ]
  },
  {
   "cell_type": "code",
   "execution_count": null,
   "id": "015629ce",
   "metadata": {},
   "outputs": [],
   "source": [
    "#Demokoodi viikon aiheista, itselleni oppeja olivat pandas kirjaston käyttäminen sekä lähes kaikki\n",
    "#mitä Jupyteri notebookin avulla toteutettavassa analyysissä voidaan käyttää\n",
    "#lisäksi datasetin lukeminen \n",
    "import pandas as pd\n",
    "import numpy as np\n",
    "\n",
    "URL= 'http://....'\n",
    "muuttuja_data =pd.read_csv(URL, compression= 'gzip')\n",
    "#tätä käytettiin toisessa harjoitustyön vaiheessa datan lukemiseen"
   ]
  },
  {
   "cell_type": "markdown",
   "id": "64eda3d2",
   "metadata": {},
   "source": [
    "## Toinen viikko, Datatieteen prosessi\n",
    "Toisella luentoviikolla keskityttiin datatieteen prosesseihin, tarkasteltiin millaisia datalähteitä on olemassa ja miten datan kerääminen toteutetaan käytännössä. Itse en osallistunut livenä luennolle vaan katsoin sen jälkikäteen tallenteena. Tämän viikon oppimispäiväkirjan kirjoittamisen pohjana käytän luennolla käytettyä Jupyter notebook materiaalia sekä luentotallennetta. \n",
    "\n",
    "Luennon oppimistavoittena olivat juuri edelläkin mainitut asiat datalähteistä, keräämisestä käytännössä sekä lisäksi mitä datan keräämisessä tulee ottaa huomioon. Liikkeelle lähdettiin datatieteen prosessista, jota esiteltiin käsitekarttamaisen mallin avulla. Mallin tarkoituksena oli selkeättää mitä osia datatieteen prosessiin kuuluu, miten nämä eri tehtävät voidaan liittää toisiinsa sekä miten eri tehtävät seuraavat toisiaan. Kiteytettynä itselleni jäi mieleen miten datan keräämisen jälkeen data puhdistetaan ja muokataan käytön kannalta sopivaan muotoon. Nämä ovat molemmat osa valmistelu-vaihetta varsinaiselle datatieteelle. Seuraavaksi puhutaan analyysivaiheesta, jossa muodostetaan erilaisia analyysimalleja, jotka pyritään toteuttamaan, näiden tuloksia tarkastellaan ja mahdolliset virheet analyysin koodeissa korjataan. Tämä kohta toteutetaan niin moneen kertaan, että tuloksiin ja niiden laatuun ollaan tyytyväisiä. Tästä siirrytään datatieteen seuraavaan vaiheeseen tulosten reflektoinnista, jossa saatuja tuloksia pyritään vertailemaan aiempaan dataan tai tuloksiin ja saaduista tuloksista tehdään dokumentaatiota. Analyysien tuloksista voidaan myös järjestää kokouksia tuloksista keskustelemiseen. Tästä jatketaan mahdollisten vaihtoehtoisten toteutustapojen tutkimiseen, mikäli analyysiin olisi mahdollista löytää vieläkin tehokkaampia menetelmiä. Datatieteilijästä todettiin mallin jatkoksi, miten tärkeää on ymmärtää datan tuottama arvo liiketoiminnan kannalta. Lisäksi tarvitaan tietenkin prosessiymmärrystä, mutta tässä datan avulla tapahtuva arvonluonti nostetaan korkeimmalle jalustalle. \n",
    "\n",
    "Seuraavaksi aiheessa siirryttiin liiketoimintarelevanssiin, jossa tarkasteltiin miten voidaan perustella juuri data-analytiikan tuoma liiketoimintarelevanssi. Tässä lähdettiin liikkeellee siitä, että todettiin miten on osoitettu data-analytiikan kyvykkyyksien avulla voidaan kasvattaa yrityksen suorituskykyä. Tämä perustui luentomateriaalin mukaan siihen miten analytiikan avulla on mahdollista lisätä ymmärrystä liiketoiminnan prosesseista. Tätä ymmärryksen kasvua pyrittiin selkeyttämään esitellemällä analytiikan nelikenttä, jossa kuvailtiin eri analytiikan muotoja. Pääpointtina itselleni näistä jäi mieleen lähinnä erilaisten analytiikkamuotojen pyrkivän selittämään miten tapahtuu, miksi tapahtuu, mitä todennäköisesti tapahtuu sekä mitä pitäisi tapahtua. Lisäksi annettiin esimerkki ennakoivasta analytiikasta eli 'mitä pitäisi tapahtua'-kohdasta. Seuraavana aiheena oli tarkastelu analytiikan nykytilasta yrityksistä, eli miten laajasti analytiikkaa pyritään keskimäärin hyödyntämään yrityksen toiminnan kehittämisessä. Tästä aiheesta nostoina toisin itse esille suhteellisen matalan osan yrityksistä, joilla on erillinen data-analytiikkatiimi, sillä sellainen löytyi luennon materiaalin mukaisesti vain noin 36% yrityksiä, jotka ottivat osaa materiaalissa mainittuun kyselyyn. Lisäksi nykyaikaisia analytiikkatyökaluja käytti niin ikään vain 38% kyselyn yrityksistä, mikä omasta mielestäni voi olla kytköksissä edelliseen data-analytiikkatiimin hyödyntämiseen. Mielenkiintoisena näin itse nämä matalat luvut kun seuraavaksi mainittiin suuren osan yrityksistä kuitenkin tiedostavan, miten analytiikka tulee vaikuttamaan yrityksen teollisuuden alaan seuraavan kolmen vuoden sisällä. Tämä oli mielestäni hyvin ristiriitaisen kuuloista, sillä jos vaikutus tiedostetaan oli itsestäni hyvin kummallista, että kuitenkin näinkin pieni osa ottaa analytiikan hyödyntämisen oikeasti tosissaan. \n",
    "\n",
    "Seuraava isompi luennon aihe oli 'raapijoiden' ja 'ryömijöiden' käyttö. Näillä tarkoitettiin ryömijän kohdalla robottia, joka käy systemaattisesti läpi verkko-osoitteita ja tämän tarkoituksena on sivujen indeksointi. Itselleni ryömijän toiminta jäi kuitenkin luennosta sekä materiaalista huolimatta hieman epäselväksi. Toisena mainittuna oli raapija, joka puolestaan kerää tietoa verkkosivuilta tunnistamalla yleisimmin metaelementtejä sivun rakenteesta ja näiden avulla tallentamalla mielenkiintoista tietoa. Ymmärsin, että näitä menetelmiä usein hyödynnetään yhdessä, jolloin ryömijä asettaa sivuja jonoon, joita raapija puolestaan käy läpi tallentaen mielenkiintoista dataa. \n",
    "Luennolla tarkasteltiin näiden lisäksi myös erilaisia datan muotoja, jotka jaoteltiin Pythonin standardisen hierarkian mukaisesti. Itselläni on hyvin vähän aiempaa kokemusta Pythonista ja yleisesti koodaamisesta, joten ymmärsin lähinnä miten erilaiset datan muodot on jaoteltu erilaisiksi tietorakenteiksi, joilla on erilaisia hierarkisia tasoja, mutta tähän oma ymmärrykseni suurinpiirtein jäikin. \n",
    "\n",
    "Mielestäni tärkeimmät opit luennolta olivat ymmärrys datan hyödyntämisen merkityksestä liitoiminnan suorituskyvyn kasvattamisessa, ymmärrys erilaisista analyytikan toimista, jotka kuvastavat erilaisia asioita, joihin analyytikan menetelmien avulla pyritään vastaamaan. Lisäksi luennolla mainittu datan jalostaminen on mielestäni yksi tärkeistä tämän luentoviikon opeista. Tämä lähinnä oman kokemukseni harjoitustyötä toteuttaessa, jossa huomasin, miten datan siivoamisen sekä jalostamisen heiko taso voi heijastua itse datan analytiikkaan ja hyödyntämis mahdollisuuksiin. Viimeisenä huomiona opituista asioista tulevaisuudessa kasvavan datan määrän mukana tuoma analytiikan tarpeen kasvu, johon yritysten tulisi mielestäni panostaa enemmän jo nykyisellään, sillä toimintatapojen muuttaminen ei tapahdu hetkessä. "
   ]
  },
  {
   "cell_type": "code",
   "execution_count": null,
   "id": "fc245336",
   "metadata": {},
   "outputs": [],
   "source": [
    "#Demokoodia toisen viikon asioista\n",
    "\n"
   ]
  },
  {
   "cell_type": "markdown",
   "id": "9a45011a",
   "metadata": {},
   "source": [
    "## Kolmas viikko, Koneoppimisen periaatteet\n",
    "Kolmannella viikolla käsittelyssä oli koneoppiminen ja miten se liittyy osaksi datatiedettä. Tarkasteltiin myös mitä asioista liittyy koneoppimisen sekä miten koneoppimista voidaan soveltaa datatieteessä. Itse osallistuin liveluennolle Panopton kautta, mutta en ollut fyysisesti luennolla paikalla. Itselläni ei juurikaan ole käytännönkokemusta koneoppimisen sovelluksista tekniikan alalla, joten luennon aihe itsellään oli mielestäni mielenkiintoinen.\n",
    "\n",
    "Asiaa lähdettiin tarkastelemaan määrittelemällä koneoppimisen eri tyyppejä luennolla esitellyn kaaviomallin avulla. Itselleni kaaviosta jäivät lähinnä mieleen koneoppimisen jakamisen eri kategorioihin oppimisen valvonnan perusteella. Näistä jaon tasoilta koneoppimista jaoteltiin oppimisen muodon perusteella. Mielestäni koneoppiminen on konseptina hyvin mielenkiintoinen sen suuren hyödyntämisen kasvun myötä tulevaisuudessa. En ollut ajatellut esimerkiksi itse ajavien autojen toiminnan perustuvan nimenomaan koneoppimiseen, mikä oli mielestäni luennon tarkastelun jälkeen lähes itsestään selvää. Oli helppoa luennon jälkeen ymmärtää miten auton itseohjaaminen perustuu koneoppimiseen liikennemerkkien tunnistamisen sekä aiemman kerätyn datan ja aktiivististen sensorien yhteistoimintaan. Koneoppimisen määrittelystä siirryttiin tekoälyyn, josta lähinnä mainittiin miten se ei itsessään ole liiketoimintaa pelastava kaikkivoipa menetelmä, vaan ennemminkin työkalu, jolla voidaan tehostaa liiketoimintaa, mikäli perustoiminnassa kaikki on yleisesti kunnossa. Seuraava luennon aihe oli ohjattu oppiminen, jolla tarkoitettiin luennon esimerkissä lähinnä toimintatapaa, jossa ihmisten osaamista sekä asiantuntemusta hyödyntämällä pyrittiin muokkaamaan lähtödataa muotoon, josta koneoppimisen olisi sitä mahdollista paremmalla menestyksellä hyödyntää. Tälläisiä asioita voisiva esimerkiksi olla datan siivoamista, uusien muuttujien lisäämistä toiminnan sujuvoittamiseksi tai muita vastaavia menetelmiä, jotka helpottavat parempien ja luotettavampien tulosten saamista koneoppimista hyödynnettäessä.Luennon esimerkkinä oli Amazon asiakaspalaute data, josta muokkaamalla, siivoamalla sekä tämän jälkeen koneoppimista hyödyntämällä kerättiin avainsanoja sekä arvioiden asioita kyettiin kiteyttämään. Tämä puolestaan vähentää suuresti tallennettavan tiedon määrää verrattuna, että tallennettaisiin avainsanojen ja lyhyiden listojen sijasta kokonaisia arviointikirjoituksia. \n",
    "\n",
    "\n",
    "\n"
   ]
  }
 ],
 "metadata": {
  "kernelspec": {
   "display_name": "Python 3 (ipykernel)",
   "language": "python",
   "name": "python3"
  },
  "language_info": {
   "codemirror_mode": {
    "name": "ipython",
    "version": 3
   },
   "file_extension": ".py",
   "mimetype": "text/x-python",
   "name": "python",
   "nbconvert_exporter": "python",
   "pygments_lexer": "ipython3",
   "version": "3.9.7"
  }
 },
 "nbformat": 4,
 "nbformat_minor": 5
}

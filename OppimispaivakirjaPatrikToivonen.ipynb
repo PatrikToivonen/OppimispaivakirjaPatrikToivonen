{
 "cells": [
  {
   "cell_type": "markdown",
   "id": "9e83544f",
   "metadata": {},
   "source": [
    "# Oppimispäiväkirja Patrik Toivonen\n",
    "## Ensimmäinen viikko, Mitä on datatiede?\n",
    "Ensimmäisellä viikolla osallistuin aloitusluennolle ja olin kurssin aiheesta suhteellisen kiinnostunut ja ylipäätään kurssin suorittaminen vaikutti mielenkiintoiselta. Olen koko kurssin ajan Turussa, joten luennoille osallistuminen tarkoittaa kaikkien luentojen kohdalla lähtökohtaisesti luennon katsomista livenä Panopton kautta tai vaihtoehtoisesti myöhemmin tallenteen katsomista. Lähtökohtaisesti pidin itseäni melko huonona koodamisen suhteen ja itseäni hieman kauhistuttikin ajatus oppimispäiväkirjan toteuttamisesta Jupyter notebookkina sekä siihen vaadittavia viikottaisia koodiosioita. Myös viimeiseksi mainittu hieman mietityttää itseäni, sillä koodaaminen ei ole oma vahvuusalueeni. En ollut koskaan ennen käyttänyt Jupyteria, joten nähtäväksi jää miten päiväkirjan toteuttaminen tällä menetelmällä tulee onnistumaan. Oppimispäiväkirjaa näin hieman jälkikäteen kirjoittaessani oman jaksamiseni ja muiden tehtävien aiheuttaneen aloittamisen lykkääntymisen, huomaan olevani hieman kurssin toteutustavasta sekä tehtävistä ulkona. Tästä johtuen itseltäni jäivät myös koodiklinikoiden hyödyntämiset hyvin vähäisiksi, mikä jälkikäteen ajateltuna olisi ollut itselleni varmasti hyvin suotavaa. Osan koodiklinikoista katselin jälkikäteen harjoitustyön tekemisen sekä tämän päiväkirjan toteuttamisten helpottamiseksi. Kurssin keskeisimmät tavoitteet itselleni ovat datatieteen parempi ymmärrys, hyödyntämiskohteiden selkeämpi ymmärtäminen sekä varsinaisen datankäsittelyn parantaminen itseni kohdalla. Kuitenkin huomaan jo ennen kurssia oman jaksamiseni olevan hieman loppu, joten tähtään kurssilla erityisesti läpipääsyyn sekä omaan oppimiseeni, kuin korkeisiin arvosanoihin. \n",
    "\n",
    "Ensimmäisen luennon aiheena olivat kurssin suorittamiseen liittyvät tekijät, jotka käytiin ensimmäiseksi läpi, kuten lähes kaikilla kursseilla on ollut tapana. Suorituksessa käytiin läpi ensinnäkin tämän oppimispäiväkirjan toteuttaminen sekä myöhemmin toteutettava harjoitustyö, joka on myös oleellinen osa kurssin suorittamista. Tästä siirryttiin varsinaiseen aiheeseen, joka ensimmäisellä luennolla oli määrittely siitä, mitä datatiede on, millaisia edellytyksiä datatieteelle voidaan asettaa sekä millaisia työvälineitä datatieteessä voidaan yleisesti hyödyntää. \n",
    "Itselläni oli ennen kurssin alkua vain hyvin pintapuoleista tietoa siitä, mitä kaikkea voidaan pitää datatieteenä. Itselläni on alla dataan liittyviä kursseja lähinnä vain Basics for Business data analytics, jossa mielestäni varsinaiseen datatieteeseen ei keskitytty kovin perusteellisesti. Datatiede esiteltiin luennolla esimerkiksi tietotekniikan, matematiikan sekä liiketoiminnan osaamisten yhdistämisenä ja miten sitä voidaan hyödyntää monenlaisten alojen liiketoiminnan tehostamisena. Datatieteen avulla voidaan luoda dataa hyödyntämällä malleja, jota voidaan taas hyödyntää niin tekoälyn toiminnan kuin analytiikan apuna. Datasta mainittiin sen määrän olevan suurempi kuin koskaan ennen ja määrän vain kasvavan tulevaisuudessa. "
   ]
  },
  {
   "cell_type": "markdown",
   "id": "64eda3d2",
   "metadata": {},
   "source": [
    "## Toinen viikko"
   ]
  }
 ],
 "metadata": {
  "kernelspec": {
   "display_name": "Python 3 (ipykernel)",
   "language": "python",
   "name": "python3"
  },
  "language_info": {
   "codemirror_mode": {
    "name": "ipython",
    "version": 3
   },
   "file_extension": ".py",
   "mimetype": "text/x-python",
   "name": "python",
   "nbconvert_exporter": "python",
   "pygments_lexer": "ipython3",
   "version": "3.9.7"
  }
 },
 "nbformat": 4,
 "nbformat_minor": 5
}
